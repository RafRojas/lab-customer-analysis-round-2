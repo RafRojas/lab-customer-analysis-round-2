{
 "cells": [
  {
   "cell_type": "code",
   "execution_count": 21,
   "id": "4bb91dd0",
   "metadata": {},
   "outputs": [
    {
     "name": "stdout",
     "output_type": "stream",
     "text": [
      "(10910, 26)\n",
      " The following columns are categorical: \n",
      "['customer', 'state', 'response', 'coverage', 'education', 'effective to date', 'employmentstatus', 'gender', 'location code', 'marital status', 'policy type', 'policy', 'renew offer type', 'sales channel', 'vehicle class', 'vehicle size', 'vehicle type']\n"
     ]
    }
   ],
   "source": [
    "import pandas as pd\n",
    "import numpy as np\n",
    "\n",
    "df = pd.read_csv('marketing_customer_analysis.csv')\n",
    "\n",
    "#Show the shape of the data frame\n",
    "\n",
    "print(df.shape)\n",
    "\n",
    "#Standarize header columns.\n",
    "\n",
    "df.columns = [x.lower() for x in df.columns]\n",
    "\n",
    "#Which columns are categorical.\n",
    "\n",
    "print(' The following columns are categorical: ' )\n",
    "cat_columns = df.select_dtypes(include=['object']).columns.tolist()\n",
    "print(cat_columns)\n",
    "\n"
   ]
  },
  {
   "cell_type": "code",
   "execution_count": 22,
   "id": "72fa57aa",
   "metadata": {},
   "outputs": [
    {
     "name": "stdout",
     "output_type": "stream",
     "text": [
      " The following columns are numeric: \n"
     ]
    },
    {
     "data": {
      "text/plain": [
       "['unnamed: 0',\n",
       " 'customer lifetime value',\n",
       " 'income',\n",
       " 'monthly premium auto',\n",
       " 'months since last claim',\n",
       " 'months since policy inception',\n",
       " 'number of open complaints',\n",
       " 'number of policies',\n",
       " 'total claim amount']"
      ]
     },
     "execution_count": 22,
     "metadata": {},
     "output_type": "execute_result"
    }
   ],
   "source": [
    "print(' The following columns are numeric: ' )\n"
   ]
  },
  {
   "cell_type": "code",
   "execution_count": 36,
   "id": "a03e535a",
   "metadata": {},
   "outputs": [
    {
     "data": {
      "text/plain": [
       "unnamed: 0                       0\n",
       "customer                         0\n",
       "state                            0\n",
       "customer lifetime value          0\n",
       "response                         0\n",
       "coverage                         0\n",
       "education                        0\n",
       "effective to date                0\n",
       "employmentstatus                 0\n",
       "gender                           0\n",
       "income                           0\n",
       "location code                    0\n",
       "marital status                   0\n",
       "monthly premium auto             0\n",
       "months since last claim          0\n",
       "months since policy inception    0\n",
       "number of open complaints        0\n",
       "number of policies               0\n",
       "policy type                      0\n",
       "policy                           0\n",
       "renew offer type                 0\n",
       "sales channel                    0\n",
       "total claim amount               0\n",
       "vehicle class                    0\n",
       "vehicle size                     0\n",
       "vehicle type                     0\n",
       "dtype: int64"
      ]
     },
     "execution_count": 36,
     "metadata": {},
     "output_type": "execute_result"
    }
   ],
   "source": [
    "# Check and deal with NaN values\n",
    "\n",
    "df = df[df['state'].isna()==False]\n",
    "df = df1[df['months since last claim'].isna()==False]\n",
    "df = df[df['number of open complaints'].isna()==False]\n",
    "df = df[df['vehicle class'].isna()==False]\n",
    "df = df[df['vehicle size'].isna()==False]\n",
    "df = df[df['vehicle type'].isna()==False]\n",
    "\n",
    "df.isna().sum()\n",
    "\n",
    "\n"
   ]
  },
  {
   "cell_type": "code",
   "execution_count": 30,
   "id": "e9f2e0e6",
   "metadata": {},
   "outputs": [
    {
     "data": {
      "text/html": [
       "<div>\n",
       "<style scoped>\n",
       "    .dataframe tbody tr th:only-of-type {\n",
       "        vertical-align: middle;\n",
       "    }\n",
       "\n",
       "    .dataframe tbody tr th {\n",
       "        vertical-align: top;\n",
       "    }\n",
       "\n",
       "    .dataframe thead th {\n",
       "        text-align: right;\n",
       "    }\n",
       "</style>\n",
       "<table border=\"1\" class=\"dataframe\">\n",
       "  <thead>\n",
       "    <tr style=\"text-align: right;\">\n",
       "      <th></th>\n",
       "      <th>effective to date</th>\n",
       "    </tr>\n",
       "  </thead>\n",
       "  <tbody>\n",
       "    <tr>\n",
       "      <th>0</th>\n",
       "      <td>2011-02-18</td>\n",
       "    </tr>\n",
       "    <tr>\n",
       "      <th>1</th>\n",
       "      <td>2011-01-18</td>\n",
       "    </tr>\n",
       "    <tr>\n",
       "      <th>2</th>\n",
       "      <td>2011-02-10</td>\n",
       "    </tr>\n",
       "    <tr>\n",
       "      <th>3</th>\n",
       "      <td>2011-01-11</td>\n",
       "    </tr>\n",
       "    <tr>\n",
       "      <th>4</th>\n",
       "      <td>2011-01-17</td>\n",
       "    </tr>\n",
       "    <tr>\n",
       "      <th>...</th>\n",
       "      <td>...</td>\n",
       "    </tr>\n",
       "    <tr>\n",
       "      <th>10905</th>\n",
       "      <td>2011-01-19</td>\n",
       "    </tr>\n",
       "    <tr>\n",
       "      <th>10906</th>\n",
       "      <td>2011-01-06</td>\n",
       "    </tr>\n",
       "    <tr>\n",
       "      <th>10907</th>\n",
       "      <td>2011-02-06</td>\n",
       "    </tr>\n",
       "    <tr>\n",
       "      <th>10908</th>\n",
       "      <td>2011-02-13</td>\n",
       "    </tr>\n",
       "    <tr>\n",
       "      <th>10909</th>\n",
       "      <td>2011-01-08</td>\n",
       "    </tr>\n",
       "  </tbody>\n",
       "</table>\n",
       "<p>10718 rows × 1 columns</p>\n",
       "</div>"
      ],
      "text/plain": [
       "      effective to date\n",
       "0            2011-02-18\n",
       "1            2011-01-18\n",
       "2            2011-02-10\n",
       "3            2011-01-11\n",
       "4            2011-01-17\n",
       "...                 ...\n",
       "10905        2011-01-19\n",
       "10906        2011-01-06\n",
       "10907        2011-02-06\n",
       "10908        2011-02-13\n",
       "10909        2011-01-08\n",
       "\n",
       "[10718 rows x 1 columns]"
      ]
     },
     "metadata": {},
     "output_type": "display_data"
    }
   ],
   "source": [
    "# Datetime format\n",
    "\n",
    "import time\n",
    "from datetime import date\n",
    "\n",
    "df_date = pd.DataFrame(df['effective to date'])\n",
    "\n",
    "df_date['effective to date'] = pd.to_datetime(df_date['effective to date'], errors = 'coerce')\n",
    "\n",
    "filtered_df = df_date.loc[(df_date['effective to date'] < '2011-02-28')]\n",
    "\n",
    "display(filtered_df)\n",
    "\n",
    "\n",
    "\n",
    "\n",
    "\n",
    "\n"
   ]
  },
  {
   "cell_type": "code",
   "execution_count": null,
   "id": "1e685992",
   "metadata": {},
   "outputs": [],
   "source": []
  },
  {
   "cell_type": "code",
   "execution_count": null,
   "id": "72a09240",
   "metadata": {},
   "outputs": [],
   "source": []
  }
 ],
 "metadata": {
  "kernelspec": {
   "display_name": "Python 3 (ipykernel)",
   "language": "python",
   "name": "python3"
  },
  "language_info": {
   "codemirror_mode": {
    "name": "ipython",
    "version": 3
   },
   "file_extension": ".py",
   "mimetype": "text/x-python",
   "name": "python",
   "nbconvert_exporter": "python",
   "pygments_lexer": "ipython3",
   "version": "3.9.12"
  }
 },
 "nbformat": 4,
 "nbformat_minor": 5
}
